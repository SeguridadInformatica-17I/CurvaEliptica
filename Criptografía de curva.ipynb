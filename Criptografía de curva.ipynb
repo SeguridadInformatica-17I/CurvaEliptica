{
 "cells": [
  {
   "cell_type": "markdown",
   "metadata": {},
   "source": [
    "#  Criptosistema\n",
    "\n",
    "\"Un Criptosistema se define como la quíntupla (m,C,K,E,D), donde:\n",
    "\n",
    "* m representa el conjunto de todos los mensajes sin cifrar (texto plano) que pueden ser enviados.\n",
    "* C Representa el conjunto de todos los posibles mensajes cifrados, o criptogramas.\n",
    "* K representa el conjunto de claves que se pueden emplear en el Criptosistema.\n",
    "* E es el conjunto de transformaciones de cifrado o familia de funciones que se aplica a cada elemento de m para obtener un elemento de C. Existe una transformación diferente Ek para cada valor posible de la clave K.\n",
    "* D es el conjunto de transformaciones de descifrado, análogo a E.\n",
    "\n",
    "Todo Criptosistema cumple la condición Dk(Ek(m))=m.\n",
    "\n",
    "Existen dos tipos fundamentales de Criptosistemas utilizados para cifrar datos e información digital y ser enviados posteriormente después por medios de transmisión libre.\n",
    "\n",
    "* Simétricos o de clave privada: se emplea la misma clave K para cifrar y descifrar, por lo tanto el emisor y el receptor deben poseer la clave. El mayor inconveniente que presentan es que se debe contar con un canal seguro para la transmisión de dicha clave.\n",
    "* Asimétricos o de llave pública:se emplea una doble clave conocidas como Kp (clave privada) y KP (clave Pública). Una de ellas es utilizada para la transformación E de cifrado y la otra para el descifrado D. En muchos de los sistemas existentes estas clave son intercambiables, es decir que si empleamos una para cifrar se utiliza la otra para descifrar y viceversa."
   ]
  },
  {
   "cell_type": "markdown",
   "metadata": {},
   "source": [
    "# Definiciones Previas:\n",
    "\n",
    "* Cuerpo\n",
    "    Un cuerpo es un anillo de división conmutativo, es decir, un anillo conmutativo y unitario en el que todo elemento distinto de cero es invertible respecto del producto. Por tanto un cuerpo es un conjunto K en el que se han definido dos operaciones, + y ·, llamadas adición y multiplicación respectivamente, que la propiedades:\n",
    "    * K es cerrado para la adición y la multiplicación\n",
    "    * Asociatividad de la adición y la multiplicación\n",
    "    * Conmutatividad de la adición y la multiplicación\n",
    "    * Existencia de un elemento neutro para la adición y la multiplicación\n",
    "    * Existencia de elemento opuesto y de inversos:\n",
    "    * Distributividad de la multiplicación respecto de la adición\n",
    "\n",
    "* Sea K un cuerpo y $x∈K^{∗} = K – {0}$. El orden de x es el mínimo número $r>0$ talque $x^{r}= 1$.\n",
    "\n",
    "* Sea K un cuerpo. La clausura algebraica deKes el cuerpomáspequeñoque contiene a K y tal que cualquier polinomio concoeficientes enKtienetodas las raíces en este cuerpo\n",
    "\n",
    "La característica de un cuerpo K es el mínimo número \"p\" tal que para todo $x∈K$ se cumple que 1 + 1 + ... + 1(p veces)=0, donde 0 es el elemento neutro de la suma y 1 es el elemento neutro del producto en elcuerpo K. Escribiremos $char(K) =p$.\n",
    "\n",
    "Si para todo $n∈N$, 1 + 1 +...+ 1(p veces)=0 decimos que $char(K) = 0$."
   ]
  },
  {
   "cell_type": "markdown",
   "metadata": {},
   "source": [
    "# Grupo\n",
    "\n",
    "* (G, ⊛) se define con una estructura basal de magma4 . Queda así establecido al definir al operador « ⊛ » como interno lo que permite operar entre sí a los elementos del conjunto, obteniendo como resultado otro elemento de ese mismo conjunto, a este concepto también se le denomina clausura lineal.\n",
    "* (G, ⊛) verifica la propiedad asociativa.\n",
    "* (G, ⊛) posee un elemento de identidad o elemento neutro e.\n",
    "* (G, ⊛) es un grupo si además, verifica la existencia de elemento simétrico para cada uno de sus elementos.\n",
    "* (G, ⊛) es grupo abeliano si además, cumple la propiedad conmutativa."
   ]
  },
  {
   "cell_type": "markdown",
   "metadata": {
    "collapsed": true
   },
   "source": [
    "# Introducción\n",
    "En los sistemas de criptografía asimétrica se utiliza 2 tipos de claves, las cuales son: la clave pública y la clave privada. En la cual mediante conceptos matemáticos podemos tener la certeza que conseguir la clave privada en cada unas de la partes(cifrado y descifrado) no sean faciles de calcular conociéndose la clave pública.\n",
    "\n",
    "Este tipo de sistemas nos ayudan a encontrar solución a ciertos problemas matemáticos, como puede ser la realización de tests de primalidad, la factorización de números enteros, la\n",
    "demostración del último teorema de Fermat o el logaritmo discreto, donde g e y son elementos de un grupo cíclico finito G, y x la solución a la ecuación $g^{x} = y$ $<=>$ $x = log_{y}$, este puede ser un problema de complejidad exponencial para ciertos grupos finitos de gran tamaño, sin embargo el problema inverso, puede ser resuelto mediante exponenciación discreta.\n",
    "\n",
    "Un criptosistema basado en curva el ́ıptica puede lograr:\n",
    "* menores longitudes de las claves\n",
    "    * mayor rapidez de calculo\n",
    "    * menos memoria y ahorro en transferencia de los datos\n",
    "* con seguridad equivalente\n",
    "* cuando se compara con criptosistemas clásicos, como el RSA\n",
    "\n",
    "### Tamaño de las claves\n",
    "\n",
    "![](ima3.png)\n",
    "\n",
    "### Curva elíptica\n",
    "\n",
    "Una curva elíptica sobre un cuerpo $K$ es una curva algebraica sin puntos singulares que viene dada por una ecuación del tipo:\n",
    "\n",
    "$$y^{2} + a_{1}xy + a_{3}y=x^{3} + a_{2}x^{2} + a_{4}x+a_{6},a_{i}∈K,$$\n",
    "\n",
    "denominada ecuación general de Weierstrass.\n",
    "\n",
    "Una curva el ́ıptica E(K) es:\n",
    "* el conjunto de puntos que satisfacen la ecuaci ́on\n",
    "* mas un punto O en el infinito\n",
    "\n",
    "Según la característica del cuerpo K, usamos transformaciones lineales para simplificar la ecuación.\n",
    "\n",
    "Con el conjunto de puntos G que forman la curva (i.e., todas las soluciones de la ecuación más un punto O, llamado punto en el infinito) más una operación aditiva +, se forma un grupo abeliano. Si las coordenadas x e y se escogen desde un cuerpo finito, entonces estamos en presencia de un grupo abeliano finito. El problema del logaritmo discreto sobre este conjunto de puntos (PLDCE) se cree que es más difícil de resolver que el correspondiente a los cuerpos finitos (PLD). De esta manera, las longitudes de claves en criptografía de curva elíptica pueden ser más cortas con un nivel de seguridad comparable.\n"
   ]
  },
  {
   "cell_type": "markdown",
   "metadata": {},
   "source": [
    "Ejemplos:\n",
    "\n",
    "$y^2 = x^3 - 8x + 4$\n",
    "![](ima1.png)\n",
    "$y^2 = x^3 - 8x + 4$ sobre $Z_{11}$\n",
    "![](ima2.png)"
   ]
  },
  {
   "cell_type": "markdown",
   "metadata": {},
   "source": [
    "Para evitar algunos tipos de ataques:\n",
    "* usamos curvas que contienen subgrupos c ́ıclicos de orden prima\n",
    "* evitamos curvas an ́omalas (las que tienen el mismo cardinal\n",
    "que el cuerpo)\n",
    "* evitamos algunas curvas supersingulares (p|t, donde p es la característica del cuerpo GF(q) y #E = q + 1 − t )\n",
    "\n",
    "Se cree que el problema del logaritmo discreto es difícil, excepto en los dos últimos casos (que son la minoría)."
   ]
  },
  {
   "cell_type": "markdown",
   "metadata": {},
   "source": []
  }
 ],
 "metadata": {
  "kernelspec": {
   "display_name": "Python 3",
   "language": "python",
   "name": "python3"
  },
  "language_info": {
   "codemirror_mode": {
    "name": "ipython",
    "version": 3
   },
   "file_extension": ".py",
   "mimetype": "text/x-python",
   "name": "python",
   "nbconvert_exporter": "python",
   "pygments_lexer": "ipython3",
   "version": "3.5.3"
  }
 },
 "nbformat": 4,
 "nbformat_minor": 0
}
