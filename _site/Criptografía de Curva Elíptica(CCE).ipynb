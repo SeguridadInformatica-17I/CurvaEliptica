{
 "cells": [
  {
   "cell_type": "markdown",
   "metadata": {},
   "source": [
    "# Resúmen\n",
    "\n",
    "* No se trata de un nuevo criptosistema, sino de un\n",
    "nuevo enfoque.\n",
    "* Se trata de usar funciones de un solo sentido en un\n",
    "contexto nuevo, usando una aritmética que hace los\n",
    "problemas más difíciles.\n",
    "* Las curvas elípticas han sido muy estudiadas desde hace más de 150 años. Su uso en Criptografía fue propuesto en 1985 independientemente por Neal Koblitz(Univ. de Washington) y Victor Miller (IBM, Yorktown Heights).\n",
    "* Unacurva elíptica es una curva en el plano tal que cada línea que la corta en 2 puntos, la corta además exactamente en un tercer punto."
   ]
  },
  {
   "cell_type": "markdown",
   "metadata": {},
   "source": [
    "# Definiciones Previas:\n",
    "\n",
    "* Cuerpo: Un cuerpo es un anillo de división conmutativo, es decir, un anillo conmutativo y unitario en el que todo elemento distinto de cero es invertible respecto del producto. Por tanto un cuerpo es un conjunto K en el que se han definido dos operaciones, + y ·, llamadas adición y multiplicación respectivamente, que la propiedades:\n",
    "    * K es cerrado para la adición y la multiplicación\n",
    "    * Asociatividad de la adición y la multiplicación\n",
    "    * Conmutatividad de la adición y la multiplicación\n",
    "    * Existencia de un elemento neutro para la adición y la multiplicación\n",
    "    * Existencia de elemento opuesto y de inversos:\n",
    "    * Distributividad de la multiplicación respecto de la adición\n",
    "\n",
    "* Sea K un cuerpo y $x∈K^{∗} = K – {0}$. El orden de x es el mínimo número $r>0$ talque $x^{r}= 1$.\n",
    "\n",
    "* Sea K un cuerpo. La clausura algebraica deKes el cuerpomáspequeñoque contiene a K y tal que cualquier polinomio concoeficientes enKtienetodas las raíces en este cuerpo\n",
    "\n",
    "* La característica de un cuerpo K es el mínimo número \"p\" tal que para todo $x∈K$ se cumple que 1 + 1 + ... + 1(p veces)=0, donde 0 es el elemento neutro de la suma y 1 es el elemento neutro del producto en elcuerpo K. Escribiremos $char(K) =p$.\n",
    "\n",
    "* Si para todo $n∈N$, 1 + 1 +...+ 1(p veces)=0 decimos que $char(K) = 0$.\n",
    "\n",
    "* Grupo : (G, *) se define con una estructura basal de magma4. Queda así establecido al definir al operador « ⊛ » como interno lo que permite operar entre sí a los elementos del conjunto, obteniendo como resultado otro elemento de ese mismo conjunto, a este concepto también se le denomina clausura lineal.\n",
    "    * (G, *) verifica la propiedad asociativa.\n",
    "    * (G, *) posee un elemento de identidad o elemento neutro e.\n",
    "    * (G, *) es un grupo si además, verifica la existencia de elemento simétrico para cada uno de sus elementos.\n",
    "    * (G, *) es grupo abeliano si además, cumple la propiedad conmutativa."
   ]
  },
  {
   "cell_type": "code",
   "execution_count": null,
   "metadata": {
    "collapsed": true
   },
   "outputs": [],
   "source": []
  }
 ],
 "metadata": {
  "kernelspec": {
   "display_name": "Python 3",
   "language": "python",
   "name": "python3"
  },
  "language_info": {
   "codemirror_mode": {
    "name": "ipython",
    "version": 3
   },
   "file_extension": ".py",
   "mimetype": "text/x-python",
   "name": "python",
   "nbconvert_exporter": "python",
   "pygments_lexer": "ipython3",
   "version": "3.5.3"
  }
 },
 "nbformat": 4,
 "nbformat_minor": 0
}
